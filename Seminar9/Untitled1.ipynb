{
  "cells": [
    {
      "cell_type": "code",
      "execution_count": null,
      "metadata": {
        "id": "Ul_GfOUUk9TL"
      },
      "outputs": [
        {
          "ename": "",
          "evalue": "",
          "output_type": "error",
          "traceback": [
            "\u001b[1;31mДля выполнения ячеек с \"venv\" требуется пакет ipykernel.\n",
            "\u001b[1;31mRun the following command to install 'ipykernel' into the Python environment. \n",
            "\u001b[1;31mCommand: '\"e:/GeekBrains/Разработчик — Программист. Специализация/Знакомство с языком Python/venv/Scripts/python.exe\" -m pip install ipykernel -U --force-reinstall'"
          ]
        }
      ],
      "source": [
        "#Чтение и запись файлов\n",
        "# csv #- comma-separated values - данные разделенные запятой\n",
        "# df = pd.read_csv('file.csv', # функция считывания внешнего файла формата csv (можно выбрать необходимый формат)\n",
        "#                  encoding='windows-1251',\n",
        "#                  headler=0,  # - какую строку считать заголовком(по умолчанию нулевую)\n",
        "#                  sep = ';',\n",
        "#                  index_col='название_столбца',\n",
        "#                  parse_dates=['Date'],\n",
        "#                  dayfirst=True)\n",
        "# 'file.csv' - путь к файлу,\n",
        "# sep - разделитель sep(по умолчаниию ',')\n",
        "# encoding – параметр в read_csv, отвечает за кодировку текста, которая может быть различной. Самая распространённая – utf\n",
        "# index_col='название_столбца' - название столбца, который будет выступать как столбец индексов\n",
        "# index_col=[0] - индекс столбца, который будет выступать как столбец индексов\n",
        "# parse_dates – указывает, стоит ли воспринимать даты как даты (по умолчанию они воспринимаются пандасом как строки).\n",
        "    # пример pd.read_csv(path, parse_dates=['some_date', 'another_date'])\n",
        "    # Параметр с датами может принимать несколько значений:\n",
        "    # True – пытается перевести в дату первую колонку\n",
        "    # список колонок – parse_dates=['some_date', 'another_date']\n",
        "    # пытается перевести в дату указанные в списке колонки и столбцы create_data, payment_data\n",
        "    # будут обрабатываться как даты\n",
        "# dayfirst=True  - первое значение в дате это день или нет - True/False\n",
        "# df['Date'].dt.day - номер дня недели в соответствии с данными в колонке с датами !!!!!\n",
        "# df['Date'].dt.day_name() - название дня недели в соответствии с данными в колонке с датами\n",
        "# df['Date'].dt.month - номер месяца в соответствии с данными в колонке с датами\n",
        "# df['Date'].dt.month_name() - название месяца в соответствии с данными в колонке с датами\n",
        "\n",
        "\n",
        "# Подключение GoogleДиска\n",
        "# from google.colab import drive\n",
        "# drive.mount('/content/gdrive', force_remount=True)\n",
        "\n",
        "\n",
        "import pandas as pd\n",
        "df = pd.read_csv(\"california_housing_test.csv\", sep=',', encoding=\"utf-8\")\n",
        "df # Вывод таблицы\n",
        "\n"
      ]
    },
    {
      "cell_type": "markdown",
      "metadata": {
        "id": "I55rX4RnoZ41"
      },
      "source": []
    },
    {
      "cell_type": "code",
      "execution_count": null,
      "metadata": {
        "id": "6xR4Yr6Boag4"
      },
      "outputs": [
        {
          "ename": "",
          "evalue": "",
          "output_type": "error",
          "traceback": [
            "\u001b[1;31mДля выполнения ячеек с \"venv\" требуется пакет ipykernel.\n",
            "\u001b[1;31mRun the following command to install 'ipykernel' into the Python environment. \n",
            "\u001b[1;31mCommand: '\"e:/GeekBrains/Разработчик — Программист. Специализация/Знакомство с языком Python/venv/Scripts/python.exe\" -m pip install ipykernel -U --force-reinstall'"
          ]
        }
      ],
      "source": [
        "df.shape # Размер таблицы"
      ]
    },
    {
      "cell_type": "code",
      "execution_count": null,
      "metadata": {
        "id": "ZEYnAMfYoWJt"
      },
      "outputs": [
        {
          "ename": "",
          "evalue": "",
          "output_type": "error",
          "traceback": [
            "\u001b[1;31mДля выполнения ячеек с \"venv\" требуется пакет ipykernel.\n",
            "\u001b[1;31mRun the following command to install 'ipykernel' into the Python environment. \n",
            "\u001b[1;31mCommand: '\"e:/GeekBrains/Разработчик — Программист. Специализация/Знакомство с языком Python/venv/Scripts/python.exe\" -m pip install ipykernel -U --force-reinstall'"
          ]
        }
      ],
      "source": [
        "df.dtypes # Тип ячеек"
      ]
    },
    {
      "cell_type": "code",
      "execution_count": null,
      "metadata": {
        "id": "aQ4CsN7Tonb7"
      },
      "outputs": [],
      "source": [
        "df.info() # Информация о датафрейме"
      ]
    },
    {
      "cell_type": "code",
      "execution_count": null,
      "metadata": {
        "id": "W1qraDOnpGzK"
      },
      "outputs": [],
      "source": [
        "df.describe() # Статистика"
      ]
    },
    {
      "cell_type": "code",
      "execution_count": null,
      "metadata": {
        "id": "nwcYE1DHpS16"
      },
      "outputs": [
        {
          "ename": "",
          "evalue": "",
          "output_type": "error",
          "traceback": [
            "\u001b[1;31mДля выполнения ячеек с \"venv\" требуется пакет ipykernel.\n",
            "\u001b[1;31mRun the following command to install 'ipykernel' into the Python environment. \n",
            "\u001b[1;31mCommand: '\"e:/GeekBrains/Разработчик — Программист. Специализация/Знакомство с языком Python/venv/Scripts/python.exe\" -m pip install ipykernel -U --force-reinstall'"
          ]
        }
      ],
      "source": [
        "# Задача №59. Решение в группах\n",
        "# 1. Проверить есть ли в файле пустые значения\n",
        "# 2. Показать median_house_value где median_income < 2\n",
        "# 3. Показать данные в первых 2 столбцах\n",
        "# 4. Выбрать данные где housing_median_age < 20 и median_house_value > 70000\n",
        "df.isna().sum()"
      ]
    },
    {
      "cell_type": "code",
      "execution_count": null,
      "metadata": {
        "id": "buafm039qyQw"
      },
      "outputs": [],
      "source": [
        "df.head()"
      ]
    },
    {
      "cell_type": "code",
      "execution_count": null,
      "metadata": {
        "id": "EFOWbsr1q4zN"
      },
      "outputs": [],
      "source": [
        "df_new = df[df['median_income'] < 2]\n",
        "df_new['median_house_value']\n"
      ]
    },
    {
      "cell_type": "code",
      "execution_count": null,
      "metadata": {
        "id": "ou7HZpIisrM7"
      },
      "outputs": [],
      "source": [
        "df_new['median_house_value'].reset_index()"
      ]
    },
    {
      "cell_type": "code",
      "execution_count": null,
      "metadata": {
        "id": "FV5HUniAtOz4"
      },
      "outputs": [],
      "source": [
        "df.columns"
      ]
    },
    {
      "cell_type": "code",
      "execution_count": null,
      "metadata": {
        "id": "_jAVQC4rtfLw"
      },
      "outputs": [],
      "source": [
        "df[['longitude', 'latitude']]"
      ]
    },
    {
      "cell_type": "code",
      "execution_count": null,
      "metadata": {
        "id": "z4W_p5yrtudf"
      },
      "outputs": [],
      "source": [
        "df.columns[:2]"
      ]
    },
    {
      "cell_type": "code",
      "execution_count": null,
      "metadata": {
        "id": "9BE6C0Pxt3t3"
      },
      "outputs": [],
      "source": [
        "df[df.columns[:2]]"
      ]
    },
    {
      "cell_type": "code",
      "execution_count": null,
      "metadata": {
        "id": "J7uuPu8muE5P"
      },
      "outputs": [],
      "source": [
        "df.loc[:,['longitude', 'latitude']]"
      ]
    },
    {
      "cell_type": "code",
      "execution_count": null,
      "metadata": {
        "id": "anzb6oSjuPmq"
      },
      "outputs": [],
      "source": [
        "df.loc[10:5:-1,['longitude', 'latitude']]"
      ]
    },
    {
      "cell_type": "code",
      "execution_count": null,
      "metadata": {
        "id": "M-kkJo7_utN0"
      },
      "outputs": [],
      "source": [
        "df.loc[:,:'latitude']"
      ]
    },
    {
      "cell_type": "code",
      "execution_count": null,
      "metadata": {
        "id": "r2wqLfFLvpEJ"
      },
      "outputs": [],
      "source": [
        "df.loc[:,:'households']"
      ]
    },
    {
      "cell_type": "code",
      "execution_count": null,
      "metadata": {
        "id": "i93kkZDtvy3M"
      },
      "outputs": [],
      "source": [
        "df.iloc[:,:2]"
      ]
    },
    {
      "cell_type": "code",
      "execution_count": null,
      "metadata": {
        "id": "xJoA0fenwdDh"
      },
      "outputs": [],
      "source": [
        "df.iloc[:5,1:6]"
      ]
    },
    {
      "cell_type": "code",
      "execution_count": null,
      "metadata": {
        "id": "olW0vX2KwpaE"
      },
      "outputs": [],
      "source": [
        "df.loc[df['median_income'] < 2, 'median_house_value']"
      ]
    },
    {
      "cell_type": "code",
      "execution_count": null,
      "metadata": {
        "id": "TPYoaSygxXEK"
      },
      "outputs": [],
      "source": [
        "df[(df['housing_median_age'] < 20) & (df['median_house_value'] > 70000)]"
      ]
    },
    {
      "cell_type": "code",
      "execution_count": 82,
      "metadata": {
        "colab": {
          "base_uri": "https://localhost:8080/"
        },
        "id": "AppVk1Q91ii7",
        "outputId": "5963178b-1772-4eca-eb8f-4dda98999984"
      },
      "outputs": [
        {
          "data": {
            "text/plain": [
              "500001.0"
            ]
          },
          "execution_count": 82,
          "metadata": {},
          "output_type": "execute_result"
        }
      ],
      "source": [
        "# Задача №61. Определить какое максимальное и минимальное значение median_house_value\n",
        "# Показать максимальное median_house_value, где median_income = 3.1250\n",
        "# Узнать какая максимальная population в зоне минимального значения median_house_value\n",
        "max(df['median_house_value'])"
      ]
    },
    {
      "cell_type": "code",
      "execution_count": 84,
      "metadata": {
        "colab": {
          "base_uri": "https://localhost:8080/"
        },
        "id": "wlbfv2sH17li",
        "outputId": "0a9af93c-c349-486b-d5ca-47d3460a00f2"
      },
      "outputs": [
        {
          "data": {
            "text/plain": [
              "22500.0"
            ]
          },
          "execution_count": 84,
          "metadata": {},
          "output_type": "execute_result"
        }
      ],
      "source": [
        "\n",
        "min(df.median_house_value)"
      ]
    },
    {
      "cell_type": "code",
      "execution_count": 93,
      "metadata": {
        "colab": {
          "base_uri": "https://localhost:8080/"
        },
        "id": "id_n2GAi3Rx1",
        "outputId": "7fb00a0b-a29d-402f-cebc-730592ccfe16"
      },
      "outputs": [
        {
          "data": {
            "text/plain": [
              "22500.0"
            ]
          },
          "execution_count": 93,
          "metadata": {},
          "output_type": "execute_result"
        }
      ],
      "source": [
        "df.median_house_value.min()"
      ]
    },
    {
      "cell_type": "code",
      "execution_count": 85,
      "metadata": {
        "colab": {
          "base_uri": "https://localhost:8080/"
        },
        "id": "-Kjvhtys2N32",
        "outputId": "b158b6e9-1cff-4c77-de87-fe45fbdbdd3f"
      },
      "outputs": [
        {
          "data": {
            "text/plain": [
              "500001.0"
            ]
          },
          "execution_count": 85,
          "metadata": {},
          "output_type": "execute_result"
        }
      ],
      "source": [
        "max(df.median_house_value)"
      ]
    },
    {
      "cell_type": "code",
      "execution_count": 92,
      "metadata": {
        "colab": {
          "base_uri": "https://localhost:8080/"
        },
        "id": "2p9aOm4M3Ozi",
        "outputId": "9565b410-ddc0-41d0-8943-c5cecea3bda7"
      },
      "outputs": [
        {
          "data": {
            "text/plain": [
              "(22500.0, 22500.0)"
            ]
          },
          "execution_count": 92,
          "metadata": {},
          "output_type": "execute_result"
        }
      ],
      "source": [
        "min(df.median_house_value), min(df.median_house_value)"
      ]
    },
    {
      "cell_type": "code",
      "execution_count": 90,
      "metadata": {
        "colab": {
          "base_uri": "https://localhost:8080/"
        },
        "id": "lYfoXfKF2Uts",
        "outputId": "14a1604b-dd93-4b68-bfd7-f334f2b99add"
      },
      "outputs": [
        {
          "data": {
            "text/plain": [
              "156300.0"
            ]
          },
          "execution_count": 90,
          "metadata": {},
          "output_type": "execute_result"
        }
      ],
      "source": [
        "min(df.median_house_value[df['median_income'] == 3.1250 ])"
      ]
    },
    {
      "cell_type": "code",
      "execution_count": 91,
      "metadata": {
        "colab": {
          "base_uri": "https://localhost:8080/"
        },
        "id": "UDEPCCEP3C8x",
        "outputId": "33c17b2b-d6eb-409e-a48e-c264f5f77d72"
      },
      "outputs": [
        {
          "data": {
            "text/plain": [
              "233300.0"
            ]
          },
          "execution_count": 91,
          "metadata": {},
          "output_type": "execute_result"
        }
      ],
      "source": [
        "max(df.median_house_value[df['median_income'] == 3.1250 ])"
      ]
    },
    {
      "cell_type": "code",
      "execution_count": 103,
      "metadata": {
        "colab": {
          "base_uri": "https://localhost:8080/"
        },
        "id": "0Qg6oWdF3rMz",
        "outputId": "00f7c661-cc0e-403d-c7ba-a2cbd4ce733d"
      },
      "outputs": [
        {
          "data": {
            "text/plain": [
              "156300.0"
            ]
          },
          "execution_count": 103,
          "metadata": {},
          "output_type": "execute_result"
        }
      ],
      "source": [
        "min(df[df['median_income'] == 3.1250]['median_house_value'])"
      ]
    },
    {
      "cell_type": "code",
      "execution_count": null,
      "metadata": {
        "colab": {
          "base_uri": "https://localhost:8080/"
        },
        "id": "FfogYfGh4m4F",
        "outputId": "8dfd068d-df03-4f02-c524-d6fb92a9bdd6"
      },
      "outputs": [
        {
          "ename": "",
          "evalue": "",
          "output_type": "error",
          "traceback": [
            "\u001b[1;31mДля выполнения ячеек с \"venv\" требуется пакет ipykernel.\n",
            "\u001b[1;31mRun the following command to install 'ipykernel' into the Python environment. \n",
            "\u001b[1;31mCommand: '\"e:/GeekBrains/Разработчик — Программист. Специализация/Знакомство с языком Python/venv/Scripts/python.exe\" -m pip install ipykernel -U --force-reinstall'"
          ]
        }
      ],
      "source": [
        "df[df['median_income'] == 3.1250]['median_house_value'].max()"
      ]
    },
    {
      "cell_type": "code",
      "execution_count": null,
      "metadata": {
        "colab": {
          "base_uri": "https://localhost:8080/"
        },
        "id": "cmOzwzie4qo2",
        "outputId": "d8cf548c-342c-4fb3-eb60-bb649246204f"
      },
      "outputs": [
        {
          "ename": "",
          "evalue": "",
          "output_type": "error",
          "traceback": [
            "\u001b[1;31mДля выполнения ячеек с \"venv\" требуется пакет ipykernel.\n",
            "\u001b[1;31mRun the following command to install 'ipykernel' into the Python environment. \n",
            "\u001b[1;31mCommand: '\"e:/GeekBrains/Разработчик — Программист. Специализация/Знакомство с языком Python/venv/Scripts/python.exe\" -m pip install ipykernel -U --force-reinstall'"
          ]
        }
      ],
      "source": [
        "df[df['median_house_value'] == df['median_house_value'].min()]['population'].max()"
      ]
    }
  ],
  "metadata": {
    "colab": {
      "provenance": []
    },
    "kernelspec": {
      "display_name": "Python 3",
      "name": "python3"
    },
    "language_info": {
      "codemirror_mode": {
        "name": "ipython",
        "version": 3
      },
      "file_extension": ".py",
      "mimetype": "text/x-python",
      "name": "python",
      "nbconvert_exporter": "python",
      "pygments_lexer": "ipython3",
      "version": "3.12.0"
    }
  },
  "nbformat": 4,
  "nbformat_minor": 0
}
